{
 "cells": [
  {
   "cell_type": "markdown",
   "id": "8a0af10a",
   "metadata": {},
   "source": [
    "### Python Basics - Mathametical Operations"
   ]
  },
  {
   "cell_type": "code",
   "execution_count": 1,
   "id": "8e2e1320",
   "metadata": {},
   "outputs": [
    {
     "data": {
      "text/plain": [
       "0"
      ]
     },
     "execution_count": 1,
     "metadata": {},
     "output_type": "execute_result"
    }
   ],
   "source": [
    "4%2"
   ]
  },
  {
   "cell_type": "code",
   "execution_count": 2,
   "id": "9304db55",
   "metadata": {},
   "outputs": [
    {
     "data": {
      "text/plain": [
       "2.0"
      ]
     },
     "execution_count": 2,
     "metadata": {},
     "output_type": "execute_result"
    }
   ],
   "source": [
    "4/2"
   ]
  },
  {
   "cell_type": "code",
   "execution_count": 3,
   "id": "f17731d9",
   "metadata": {},
   "outputs": [
    {
     "data": {
      "text/plain": [
       "2"
      ]
     },
     "execution_count": 3,
     "metadata": {},
     "output_type": "execute_result"
    }
   ],
   "source": [
    "5//2"
   ]
  },
  {
   "cell_type": "code",
   "execution_count": 5,
   "id": "14c44fcd",
   "metadata": {},
   "outputs": [
    {
     "data": {
      "text/plain": [
       "14"
      ]
     },
     "execution_count": 5,
     "metadata": {},
     "output_type": "execute_result"
    }
   ],
   "source": [
    "#bodmas rule\n",
    "5+3*3\n"
   ]
  },
  {
   "cell_type": "code",
   "execution_count": 8,
   "id": "634e585c",
   "metadata": {},
   "outputs": [
    {
     "data": {
      "text/plain": [
       "str"
      ]
     },
     "execution_count": 8,
     "metadata": {},
     "output_type": "execute_result"
    }
   ],
   "source": [
    "type('1.0')"
   ]
  },
  {
   "cell_type": "code",
   "execution_count": 10,
   "id": "5bebd395",
   "metadata": {},
   "outputs": [],
   "source": [
    "a=1\n",
    "b=2\n",
    "c=a+b"
   ]
  },
  {
   "cell_type": "code",
   "execution_count": 12,
   "id": "14a538cd",
   "metadata": {},
   "outputs": [
    {
     "data": {
      "text/plain": [
       "int"
      ]
     },
     "execution_count": 12,
     "metadata": {},
     "output_type": "execute_result"
    }
   ],
   "source": [
    "type(c)"
   ]
  },
  {
   "cell_type": "code",
   "execution_count": 15,
   "id": "7c8571d9",
   "metadata": {},
   "outputs": [
    {
     "data": {
      "text/plain": [
       "bool"
      ]
     },
     "execution_count": 15,
     "metadata": {},
     "output_type": "execute_result"
    }
   ],
   "source": [
    "#Boolean Operation\n",
    "type(True and False)"
   ]
  },
  {
   "cell_type": "code",
   "execution_count": 16,
   "id": "397f773c",
   "metadata": {},
   "outputs": [
    {
     "data": {
      "text/plain": [
       "True"
      ]
     },
     "execution_count": 16,
     "metadata": {},
     "output_type": "execute_result"
    }
   ],
   "source": [
    "True | False"
   ]
  },
  {
   "cell_type": "code",
   "execution_count": 19,
   "id": "d21971d5",
   "metadata": {},
   "outputs": [
    {
     "data": {
      "text/plain": [
       "True"
      ]
     },
     "execution_count": 19,
     "metadata": {},
     "output_type": "execute_result"
    }
   ],
   "source": [
    "a=10\n",
    "b=20\n",
    "a+b>30 or a-b<10"
   ]
  },
  {
   "cell_type": "code",
   "execution_count": 25,
   "id": "9b69b3a2",
   "metadata": {
    "scrolled": true
   },
   "outputs": [
    {
     "data": {
      "text/plain": [
       "'I live in hosur'"
      ]
     },
     "execution_count": 25,
     "metadata": {},
     "output_type": "execute_result"
    }
   ],
   "source": [
    "str"
   ]
  },
  {
   "cell_type": "markdown",
   "id": "725b66dd",
   "metadata": {},
   "source": [
    "### Strings"
   ]
  },
  {
   "cell_type": "code",
   "execution_count": 7,
   "id": "45d260e6",
   "metadata": {},
   "outputs": [],
   "source": [
    "#never use the reserve keyword.otherwise will get error.\n",
    "Str=\"I live in hosur\""
   ]
  },
  {
   "cell_type": "code",
   "execution_count": 3,
   "id": "5907cbec",
   "metadata": {},
   "outputs": [
    {
     "data": {
      "text/plain": [
       "str"
      ]
     },
     "execution_count": 3,
     "metadata": {},
     "output_type": "execute_result"
    }
   ],
   "source": [
    "str"
   ]
  },
  {
   "cell_type": "code",
   "execution_count": 5,
   "id": "7faa60d7",
   "metadata": {},
   "outputs": [
    {
     "data": {
      "text/plain": [
       "str"
      ]
     },
     "execution_count": 5,
     "metadata": {},
     "output_type": "execute_result"
    }
   ],
   "source": [
    "str"
   ]
  },
  {
   "cell_type": "code",
   "execution_count": 8,
   "id": "374b1c8e",
   "metadata": {},
   "outputs": [],
   "source": [
    "str1=\"A good boy\"\n",
    "str2=\"A bad boy\""
   ]
  },
  {
   "cell_type": "code",
   "execution_count": 13,
   "id": "66d52c64",
   "metadata": {},
   "outputs": [
    {
     "data": {
      "text/plain": [
       "'A good boy A bad boy'"
      ]
     },
     "execution_count": 13,
     "metadata": {},
     "output_type": "execute_result"
    }
   ],
   "source": [
    "str1+\" \"+str2"
   ]
  },
  {
   "cell_type": "code",
   "execution_count": 14,
   "id": "cea5bb8a",
   "metadata": {},
   "outputs": [
    {
     "name": "stdout",
     "output_type": "stream",
     "text": [
      "My name isVaishak\n",
      "Vaishak\n"
     ]
    }
   ],
   "source": [
    "name=input(\"My name is\")\n",
    "print(name)"
   ]
  },
  {
   "cell_type": "code",
   "execution_count": 19,
   "id": "33f1dff6",
   "metadata": {},
   "outputs": [
    {
     "name": "stdout",
     "output_type": "stream",
     "text": [
      "First number 10\n",
      "Second number 20\n",
      "output 30\n"
     ]
    }
   ],
   "source": [
    "###add two numbers\n",
    "a=input(\"First number \")\n",
    "b=input(\"Second number \")\n",
    "c=int(a)+int(b)\n",
    "print(\"output\",c)"
   ]
  },
  {
   "cell_type": "code",
   "execution_count": 30,
   "id": "a49886dd",
   "metadata": {},
   "outputs": [
    {
     "name": "stdout",
     "output_type": "stream",
     "text": [
      "value12\n",
      "value22\n",
      "value32\n",
      "output 6\n"
     ]
    }
   ],
   "source": [
    "a=input (\"value1\")\n",
    "b=input(\"value2\")\n",
    "c=input(\"value3\")\n",
    "z=int(a)+int(b)+int(c)\n",
    "print(\"output\",z)"
   ]
  },
  {
   "cell_type": "code",
   "execution_count": 1,
   "id": "3b2a9384",
   "metadata": {},
   "outputs": [
    {
     "name": "stdout",
     "output_type": "stream",
     "text": [
      "your first name vaishak\n",
      "your last name Chandrababu\n",
      "my first name is vaishak and last name is Chandrababu\n"
     ]
    }
   ],
   "source": [
    "###string formatting\n",
    "\n",
    "first_name=input(\"your first name \")\n",
    "last_name=input(\"your last name \")\n",
    "print(\"my first name is {firstname} and last name is {lastname}\".format(lastname=last_name, firstname=first_name))"
   ]
  },
  {
   "cell_type": "code",
   "execution_count": 8,
   "id": "a5bf6c24",
   "metadata": {},
   "outputs": [
    {
     "name": "stdout",
     "output_type": "stream",
     "text": [
      "first semester college1000\n",
      "second semester college1000\n",
      "first semester college fees 1000 and second semester college fees 1000\n"
     ]
    }
   ],
   "source": [
    "first_value=input(\"first semester college\")\n",
    "second_value=input(\"second semester college\")\n",
    "print(\"first semester college fees {} and second semester college fees {}\".format(first_value, second_value))"
   ]
  },
  {
   "cell_type": "markdown",
   "id": "edd83282",
   "metadata": {},
   "source": [
    "### variable dynamic typing"
   ]
  },
  {
   "cell_type": "code",
   "execution_count": 9,
   "id": "b2edc5a9",
   "metadata": {},
   "outputs": [
    {
     "data": {
      "text/plain": [
       "int"
      ]
     },
     "execution_count": 9,
     "metadata": {},
     "output_type": "execute_result"
    }
   ],
   "source": [
    "#there is no need of mentioning specific data type variable as python understands. where it automatically understands which type of data it is and also it should be same datatype\n",
    "a=12\n",
    "type(a)"
   ]
  },
  {
   "cell_type": "code",
   "execution_count": 14,
   "id": "3eba4a4c",
   "metadata": {},
   "outputs": [
    {
     "data": {
      "text/plain": [
       "'1vaishak'"
      ]
     },
     "execution_count": 14,
     "metadata": {},
     "output_type": "execute_result"
    }
   ],
   "source": [
    "#strong typing - concatenation\n",
    "str(1) + \"vaishak\""
   ]
  },
  {
   "cell_type": "code",
   "execution_count": 25,
   "id": "bc8e350e",
   "metadata": {},
   "outputs": [
    {
     "data": {
      "text/plain": [
       "3"
      ]
     },
     "execution_count": 25,
     "metadata": {},
     "output_type": "execute_result"
    }
   ],
   "source": [
    "1 + int('2')"
   ]
  },
  {
   "cell_type": "code",
   "execution_count": 23,
   "id": "f2651f6d",
   "metadata": {},
   "outputs": [
    {
     "data": {
      "text/plain": [
       "'ashwin10'"
      ]
     },
     "execution_count": 23,
     "metadata": {},
     "output_type": "execute_result"
    }
   ],
   "source": [
    "\"ashwin\" + str(10)"
   ]
  },
  {
   "cell_type": "markdown",
   "id": "0b04fca5",
   "metadata": {},
   "source": [
    "### Conditon Statement"
   ]
  },
  {
   "cell_type": "code",
   "execution_count": 35,
   "id": "96650bc3",
   "metadata": {},
   "outputs": [
    {
     "name": "stdout",
     "output_type": "stream",
     "text": [
      "the first value 10\n",
      "the second value 10\n",
      "output 100\n",
      "the value is smaller\n"
     ]
    }
   ],
   "source": [
    "#if and elif\n",
    "a=input(\"the first value \")\n",
    "b=input(\"the second value \")\n",
    "c= int(a)*int(b)\n",
    "print(\"output\", c)\n",
    "if c<10:\n",
    "    print(\"the value is greater\")\n",
    "else:\n",
    "    print(\"the value is smaller\")"
   ]
  },
  {
   "cell_type": "code",
   "execution_count": 40,
   "id": "11aa507d",
   "metadata": {},
   "outputs": [
    {
     "name": "stdout",
     "output_type": "stream",
     "text": [
      "it is correct\n"
     ]
    }
   ],
   "source": [
    "a=(\"d\")\n",
    "b=(\"aeiou\")\n",
    "c=(\"bcdfghjklmnpqrstvwxyz\")\n",
    "if a in b:\n",
    "    print(\"vowel\")\n",
    "elif a in c:\n",
    "    print(\"it is correct\")\n",
    "else:\n",
    "    print(\"consonent\")\n",
    "\n"
   ]
  },
  {
   "cell_type": "markdown",
   "id": "f51227af",
   "metadata": {},
   "source": [
    "# data structures\n",
    "1. list\n",
    "2. tuple\n",
    "3. string\n",
    "4. dictinary\n",
    "5. sets"
   ]
  },
  {
   "cell_type": "code",
   "execution_count": 41,
   "id": "20947394",
   "metadata": {},
   "outputs": [],
   "source": [
    "lst=[0,1,2,3,4,5,\"vaishak\",\"chandrababu\"]"
   ]
  },
  {
   "cell_type": "code",
   "execution_count": 43,
   "id": "503bd772",
   "metadata": {},
   "outputs": [
    {
     "data": {
      "text/plain": [
       "int"
      ]
     },
     "execution_count": 43,
     "metadata": {},
     "output_type": "execute_result"
    }
   ],
   "source": [
    "type(lst[4])"
   ]
  },
  {
   "cell_type": "code",
   "execution_count": 47,
   "id": "78b38b02",
   "metadata": {},
   "outputs": [
    {
     "data": {
      "text/plain": [
       "[0, 1, 2, 3, 4, 5, 'vaishak', 'chandrababu']"
      ]
     },
     "execution_count": 47,
     "metadata": {},
     "output_type": "execute_result"
    }
   ],
   "source": [
    "list([0,1,2,3,4,5,\"vaishak\",\"chandrababu\"])"
   ]
  },
  {
   "cell_type": "code",
   "execution_count": 49,
   "id": "493ee525",
   "metadata": {},
   "outputs": [],
   "source": [
    "lst.append(\"Inueron\")"
   ]
  },
  {
   "cell_type": "code",
   "execution_count": 54,
   "id": "4ea8b7e7",
   "metadata": {},
   "outputs": [
    {
     "name": "stdout",
     "output_type": "stream",
     "text": [
      "['Beginner', 1, 2, 3, 4, 5, 'vaishak', 'chandrababu', 'Inueron']\n"
     ]
    }
   ],
   "source": [
    "lst[0]='Beginner'\n",
    "print(lst)"
   ]
  },
  {
   "cell_type": "code",
   "execution_count": 55,
   "id": "36cd1b8b",
   "metadata": {},
   "outputs": [
    {
     "data": {
      "text/plain": [
       "'i'"
      ]
     },
     "execution_count": 55,
     "metadata": {},
     "output_type": "execute_result"
    }
   ],
   "source": [
    "#indexing\n",
    "str=\"vaishak\"\n",
    "str[2]"
   ]
  },
  {
   "cell_type": "code",
   "execution_count": 56,
   "id": "848b69bf",
   "metadata": {},
   "outputs": [
    {
     "data": {
      "text/plain": [
       "'i'"
      ]
     },
     "execution_count": 56,
     "metadata": {},
     "output_type": "execute_result"
    }
   ],
   "source": [
    "str=\"vaishak\"\n",
    "str[2]"
   ]
  },
  {
   "cell_type": "code",
   "execution_count": null,
   "id": "3b2a24f1",
   "metadata": {},
   "outputs": [],
   "source": []
  }
 ],
 "metadata": {
  "kernelspec": {
   "display_name": "Python 3",
   "language": "python",
   "name": "python3"
  },
  "language_info": {
   "codemirror_mode": {
    "name": "ipython",
    "version": 3
   },
   "file_extension": ".py",
   "mimetype": "text/x-python",
   "name": "python",
   "nbconvert_exporter": "python",
   "pygments_lexer": "ipython3",
   "version": "3.8.8"
  }
 },
 "nbformat": 4,
 "nbformat_minor": 5
}
